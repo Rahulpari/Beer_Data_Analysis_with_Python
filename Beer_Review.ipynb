{
 "cells": [
  {
   "cell_type": "markdown",
   "id": "c83b15b4",
   "metadata": {},
   "source": [
    "## Hypothesis\n",
    "\n",
    "#### 1. Average abv of the beers in the world is 5%. This sample dataset represents population\n",
    "#### 2. The overall characteristics and your personal experience of the beer is strongly influenced by aroma and taste\n",
    "#### 3. Stronger beers (above 10% abv) are rated 5 for overall charecteristics\n",
    "#### 4. More the review time, better is the rating i.e beers rated 4, 5 for overall charecteristics has taken more time for review \n",
    "#### 5. Atleast 80% of the beers have abv between 4% - 7%\n"
   ]
  },
  {
   "cell_type": "markdown",
   "id": "cd061b03",
   "metadata": {},
   "source": [
    "# "
   ]
  },
  {
   "cell_type": "markdown",
   "id": "35bfd441",
   "metadata": {},
   "source": [
    "## Importing Libraries & Data"
   ]
  },
  {
   "cell_type": "code",
   "execution_count": 1,
   "id": "4e0ed6d4",
   "metadata": {},
   "outputs": [],
   "source": [
    "import pandas as pd \n",
    "import numpy as np #For Mathematic calulcation\n",
    "import seaborn as sns #For data visualization\n",
    "import matplotlib.pyplot as plt #For plotting graph\n",
    "import os #For changing directory\n",
    "\n",
    "import sklearn #Scikit-Learn for Model Building\n",
    "from sklearn.metrics import r2_score, mean_squared_error\n",
    "from scipy import stats\n",
    "import statsmodels.api as sm\n",
    "\n",
    "def summary_stats(col):\n",
    "    \"\"\"\n",
    "    Computes summary statistics (min, max, quartiles) of a column in a database.\n",
    "    Args: col (pandas.Series): The column of the database to analyze.\n",
    "    Returns: dict: A dictionary containing the summary statistics.\n",
    "    \"\"\"\n",
    "    \n",
    "    # Compute summary statistics\n",
    "    min_val = col.min()\n",
    "    max_val = col.max()\n",
    "    quartiles = np.percentile(col, [25, 50, 75, 90, 95, 99, 10])\n",
    "    \n",
    "    # Create dictionary of summary statistics\n",
    "    stats_dict = {\n",
    "        'Min': min_val,\n",
    "        '10%ile': quartiles[6],\n",
    "        'Q1': quartiles[0],\n",
    "        'Q2 (Median)': quartiles[1],\n",
    "        'Q3': quartiles[2],\n",
    "        '90%ile': quartiles[3],\n",
    "        '95%ile': quartiles[4],\n",
    "        '99%ile': quartiles[5],\n",
    "        'Max': max_val\n",
    "    }\n",
    "    \n",
    "    return stats_dict"
   ]
  },
  {
   "cell_type": "code",
   "execution_count": 2,
   "id": "572a4343",
   "metadata": {},
   "outputs": [],
   "source": [
    "path1=\"......../Python_Beer_Review\" #Insert folder where csv file is stored\n",
    "os.chdir(path1) #Directory path1 is set"
   ]
  },
  {
   "cell_type": "code",
   "execution_count": 3,
   "id": "77470921",
   "metadata": {},
   "outputs": [],
   "source": [
    "db = pd.read_csv(\"beer_reviews.csv\")"
   ]
  },
  {
   "cell_type": "markdown",
   "id": "06acb528",
   "metadata": {},
   "source": [
    "## Understanding the data"
   ]
  },
  {
   "cell_type": "code",
   "execution_count": 4,
   "id": "7207834e",
   "metadata": {},
   "outputs": [
    {
     "data": {
      "text/plain": [
       "Index(['brewery_id', 'brewery_name', 'review_time', 'review_overall',\n",
       "       'review_aroma', 'review_appearance', 'review_profilename', 'beer_style',\n",
       "       'review_palate', 'review_taste', 'beer_name', 'beer_abv',\n",
       "       'beer_beerid'],\n",
       "      dtype='object')"
      ]
     },
     "execution_count": 4,
     "metadata": {},
     "output_type": "execute_result"
    }
   ],
   "source": [
    "db.columns"
   ]
  },
  {
   "cell_type": "code",
   "execution_count": 5,
   "id": "e2436e47",
   "metadata": {},
   "outputs": [
    {
     "data": {
      "text/plain": [
       "(1586614, 13)"
      ]
     },
     "execution_count": 5,
     "metadata": {},
     "output_type": "execute_result"
    }
   ],
   "source": [
    "db.shape"
   ]
  },
  {
   "cell_type": "code",
   "execution_count": 6,
   "id": "c431f197",
   "metadata": {},
   "outputs": [
    {
     "data": {
      "text/plain": [
       "brewery_id              int64\n",
       "brewery_name           object\n",
       "review_time             int64\n",
       "review_overall        float64\n",
       "review_aroma          float64\n",
       "review_appearance     float64\n",
       "review_profilename     object\n",
       "beer_style             object\n",
       "review_palate         float64\n",
       "review_taste          float64\n",
       "beer_name              object\n",
       "beer_abv              float64\n",
       "beer_beerid             int64\n",
       "dtype: object"
      ]
     },
     "execution_count": 6,
     "metadata": {},
     "output_type": "execute_result"
    }
   ],
   "source": [
    "db.dtypes"
   ]
  },
  {
   "cell_type": "code",
   "execution_count": 7,
   "id": "1443c5b1",
   "metadata": {},
   "outputs": [
    {
     "name": "stdout",
     "output_type": "stream",
     "text": [
      "   brewery_id             brewery_name  review_time  review_overall  \\\n",
      "0       10325          Vecchio Birraio   1234817823             1.5   \n",
      "1       10325          Vecchio Birraio   1235915097             3.0   \n",
      "2       10325          Vecchio Birraio   1235916604             3.0   \n",
      "3       10325          Vecchio Birraio   1234725145             3.0   \n",
      "4        1075  Caldera Brewing Company   1293735206             4.0   \n",
      "\n",
      "   review_aroma  review_appearance review_profilename  \\\n",
      "0           2.0                2.5            stcules   \n",
      "1           2.5                3.0            stcules   \n",
      "2           2.5                3.0            stcules   \n",
      "3           3.0                3.5            stcules   \n",
      "4           4.5                4.0     johnmichaelsen   \n",
      "\n",
      "                       beer_style  review_palate  review_taste  \\\n",
      "0                      Hefeweizen            1.5           1.5   \n",
      "1              English Strong Ale            3.0           3.0   \n",
      "2          Foreign / Export Stout            3.0           3.0   \n",
      "3                 German Pilsener            2.5           3.0   \n",
      "4  American Double / Imperial IPA            4.0           4.5   \n",
      "\n",
      "                beer_name  beer_abv  beer_beerid  \n",
      "0            Sausa Weizen       5.0        47986  \n",
      "1                Red Moon       6.2        48213  \n",
      "2  Black Horse Black Beer       6.5        48215  \n",
      "3              Sausa Pils       5.0        47969  \n",
      "4           Cauldron DIPA       7.7        64883  \n"
     ]
    }
   ],
   "source": [
    "print(db.head(5))"
   ]
  },
  {
   "cell_type": "markdown",
   "id": "103a6b75",
   "metadata": {},
   "source": [
    "### Beers are rated for aroma, appearance, taste, palate and overall experiences\n",
    "### These rating must be 1 - 5"
   ]
  },
  {
   "cell_type": "code",
   "execution_count": 8,
   "id": "66694ccf",
   "metadata": {},
   "outputs": [
    {
     "name": "stdout",
     "output_type": "stream",
     "text": [
      "Unique (Brewery) =  5742\n",
      "Unique (Beer) =  56857\n",
      "Unique (Beer_Style) =  104\n",
      "Unique (Beer_Abv) =  530\n",
      "Unique (review_profilename) =  33387\n",
      "Unique (review_overall) =  10\n",
      "Unique (review_aroma) =  9\n",
      "Unique (review_appearance) =  10\n",
      "Unique (review_palate) =  9\n",
      "Unique (review_taste) =  9\n"
     ]
    }
   ],
   "source": [
    "print(\"Unique (Brewery) = \", db[\"brewery_name\"].nunique())\n",
    "print(\"Unique (Beer) = \", db[\"beer_name\"].nunique())\n",
    "print(\"Unique (Beer_Style) = \", db[\"beer_style\"].nunique())\n",
    "print(\"Unique (Beer_Abv) = \", db[\"beer_abv\"].nunique())\n",
    "print(\"Unique (review_profilename) = \", db[\"review_profilename\"].nunique())\n",
    "\n",
    "print(\"Unique (review_overall) = \", db[\"review_overall\"].nunique())\n",
    "print(\"Unique (review_aroma) = \", db[\"review_aroma\"].nunique())\n",
    "print(\"Unique (review_appearance) = \", db[\"review_appearance\"].nunique())\n",
    "print(\"Unique (review_palate) = \", db[\"review_palate\"].nunique())\n",
    "print(\"Unique (review_taste) = \", db[\"review_taste\"].nunique())"
   ]
  },
  {
   "cell_type": "markdown",
   "id": "5e2faced",
   "metadata": {},
   "source": [
    "### review_overall & review_appearance seems to have a outlier\n",
    "\n",
    "\n",
    "# EDA\n",
    "# Missing Values & Outliers treatment"
   ]
  },
  {
   "cell_type": "code",
   "execution_count": 9,
   "id": "09c1dddd",
   "metadata": {},
   "outputs": [
    {
     "name": "stdout",
     "output_type": "stream",
     "text": [
      "                    missing_count  missing_percentage\n",
      "brewery_id                      0            0.000000\n",
      "brewery_name                   15            0.000945\n",
      "review_time                     0            0.000000\n",
      "review_overall                  0            0.000000\n",
      "review_aroma                    0            0.000000\n",
      "review_appearance               0            0.000000\n",
      "review_profilename            348            0.021934\n",
      "beer_style                      0            0.000000\n",
      "review_palate                   0            0.000000\n",
      "review_taste                    0            0.000000\n",
      "beer_name                       0            0.000000\n",
      "beer_abv                    67785            4.272306\n",
      "beer_beerid                     0            0.000000\n"
     ]
    }
   ],
   "source": [
    "#Finding percent missing values in each column\n",
    "missing_counts = db.isna().sum() #Count of missing values\n",
    "missing_percentages = (missing_counts / len(db)) * 100 #Percentage of missing values\n",
    "\n",
    "missing_data = pd.concat([missing_counts, missing_percentages], axis=1) #Combining both\n",
    "missing_data.columns = ['missing_count', 'missing_percentage'] #Labeling\n",
    "\n",
    "print(missing_data)"
   ]
  },
  {
   "cell_type": "code",
   "execution_count": 10,
   "id": "af08facd",
   "metadata": {},
   "outputs": [
    {
     "data": {
      "text/plain": [
       "brewery_id            0\n",
       "brewery_name          0\n",
       "review_time           0\n",
       "review_overall        0\n",
       "review_aroma          0\n",
       "review_appearance     0\n",
       "review_profilename    0\n",
       "beer_style            0\n",
       "review_palate         0\n",
       "review_taste          0\n",
       "beer_name             0\n",
       "beer_abv              0\n",
       "beer_beerid           0\n",
       "dtype: int64"
      ]
     },
     "execution_count": 10,
     "metadata": {},
     "output_type": "execute_result"
    }
   ],
   "source": [
    "#Since the missing values are not much, filling categorical & ordinal with MODE\n",
    "# NOTE: We use [0] with mode() because mode() returns a series of value and we take the first one with [0]\n",
    "db[\"brewery_name\"].fillna(db[\"brewery_name\"].mode()[0], inplace = True)\n",
    "db[\"review_profilename\"].fillna(db[\"review_profilename\"].mode()[0], inplace = True)\n",
    "\n",
    "#Filling numerical with MEDIAN\n",
    "db[\"beer_abv\"].fillna(db[\"beer_abv\"].median(), inplace = True)\n",
    "\n",
    "db.isnull().sum()"
   ]
  },
  {
   "cell_type": "code",
   "execution_count": 11,
   "id": "ad311ea1",
   "metadata": {},
   "outputs": [
    {
     "name": "stdout",
     "output_type": "stream",
     "text": [
      "4.0    582764\n",
      "4.5    324385\n",
      "3.5    301817\n",
      "3.0    165644\n",
      "5.0     91320\n",
      "2.5     58523\n",
      "2.0     38225\n",
      "1.5     12975\n",
      "1.0     10954\n",
      "0.0         7\n",
      "Name: review_overall, dtype: int64\n",
      "4.0    582764\n",
      "4.5    324385\n",
      "3.5    301817\n",
      "3.0    165644\n",
      "5.0     91320\n",
      "2.5     58523\n",
      "2.0     38225\n",
      "1.5     12975\n",
      "1.0     10954\n",
      "Name: review_overall, dtype: int64\n",
      "4.0    0.367302\n",
      "4.5    0.204452\n",
      "3.5    0.190228\n",
      "3.0    0.104401\n",
      "5.0    0.057557\n",
      "2.5    0.036886\n",
      "2.0    0.024092\n",
      "1.5    0.008178\n",
      "1.0    0.006904\n",
      "Name: review_overall, dtype: float64\n"
     ]
    },
    {
     "name": "stderr",
     "output_type": "stream",
     "text": [
      "C:\\Users\\Lenovo\\AppData\\Local\\Temp\\ipykernel_7128\\3731678481.py:8: UserWarning: FixedFormatter should only be used together with FixedLocator\n",
      "  ax.set_yticklabels(['{:,.0%}'.format(x) for x in ax.get_yticks()])\n"
     ]
    },
    {
     "data": {
      "image/png": "[encoded data removed]",
      "text/plain": [
       "<Figure size 640x480 with 1 Axes>"
      ]
     },
     "metadata": {},
     "output_type": "display_data"
    }
   ],
   "source": [
    "print(db[\"review_overall\"].value_counts())\n",
    "\n",
    "db = db[db['review_overall'] != 0]\n",
    "print(db[\"review_overall\"].value_counts())\n",
    "print(db[\"review_overall\"].value_counts(normalize=True))\n",
    "\n",
    "ax = db[\"review_overall\"].value_counts(normalize=True).plot.bar(title = \"review_overall\")\n",
    "ax.set_yticklabels(['{:,.0%}'.format(x) for x in ax.get_yticks()])\n",
    "plt.show()"
   ]
  },
  {
   "cell_type": "code",
   "execution_count": 12,
   "id": "2d6fce68",
   "metadata": {},
   "outputs": [
    {
     "name": "stdout",
     "output_type": "stream",
     "text": [
      "4.0    0.424923\n",
      "3.5    0.200761\n",
      "4.5    0.181588\n",
      "3.0    0.104631\n",
      "5.0    0.041219\n",
      "2.5    0.024891\n",
      "2.0    0.016018\n",
      "1.5    0.003874\n",
      "1.0    0.002094\n",
      "Name: review_appearance, dtype: float64\n"
     ]
    },
    {
     "name": "stderr",
     "output_type": "stream",
     "text": [
      "C:\\Users\\Lenovo\\AppData\\Local\\Temp\\ipykernel_7128\\1516019864.py:4: UserWarning: FixedFormatter should only be used together with FixedLocator\n",
      "  ax.set_yticklabels(['{:,.0%}'.format(x) for x in ax.get_yticks()])\n"
     ]
    },
    {
     "data": {
      "image/png": "[encoded data removed]",
      "text/plain": [
       "<Figure size 640x480 with 1 Axes>"
      ]
     },
     "metadata": {},
     "output_type": "display_data"
    }
   ],
   "source": [
    "print(db[\"review_appearance\"].value_counts(normalize=True))\n",
    "\n",
    "ax = db[\"review_appearance\"].value_counts(normalize=True).plot.bar(title = \"review_appearance\")\n",
    "ax.set_yticklabels(['{:,.0%}'.format(x) for x in ax.get_yticks()])\n",
    "plt.show()"
   ]
  },
  {
   "cell_type": "code",
   "execution_count": 13,
   "id": "ff462485",
   "metadata": {},
   "outputs": [
    {
     "name": "stdout",
     "output_type": "stream",
     "text": [
      "4.0    0.351304\n",
      "3.5    0.230247\n",
      "4.5    0.171088\n",
      "3.0    0.126073\n",
      "2.5    0.041824\n",
      "5.0    0.040411\n",
      "2.0    0.026826\n",
      "1.5    0.007894\n",
      "1.0    0.004332\n",
      "Name: review_aroma, dtype: float64\n"
     ]
    },
    {
     "name": "stderr",
     "output_type": "stream",
     "text": [
      "C:\\Users\\Lenovo\\AppData\\Local\\Temp\\ipykernel_7128\\1171516439.py:4: UserWarning: FixedFormatter should only be used together with FixedLocator\n",
      "  ax.set_yticklabels(['{:,.0%}'.format(x) for x in ax.get_yticks()])\n"
     ]
    },
    {
     "data": {
      "image/png": "[encoded data removed]",
      "text/plain": [
       "<Figure size 640x480 with 1 Axes>"
      ]
     },
     "metadata": {},
     "output_type": "display_data"
    }
   ],
   "source": [
    "print(db[\"review_aroma\"].value_counts(normalize=True))\n",
    "\n",
    "ax = db[\"review_aroma\"].value_counts(normalize=True).plot.bar(title = \"review_aroma\")\n",
    "ax.set_yticklabels(['{:,.0%}'.format(x) for x in ax.get_yticks()])\n",
    "plt.show()"
   ]
  },
  {
   "cell_type": "code",
   "execution_count": 14,
   "id": "6d029d2d",
   "metadata": {},
   "outputs": [
    {
     "name": "stdout",
     "output_type": "stream",
     "text": [
      "4.0    0.382395\n",
      "3.5    0.213402\n",
      "4.5    0.159524\n",
      "3.0    0.130423\n",
      "2.5    0.039606\n",
      "5.0    0.039197\n",
      "2.0    0.024159\n",
      "1.5    0.006961\n",
      "1.0    0.004333\n",
      "Name: review_palate, dtype: float64\n"
     ]
    },
    {
     "name": "stderr",
     "output_type": "stream",
     "text": [
      "C:\\Users\\Lenovo\\AppData\\Local\\Temp\\ipykernel_7128\\2129575738.py:4: UserWarning: FixedFormatter should only be used together with FixedLocator\n",
      "  ax.set_yticklabels(['{:,.0%}'.format(x) for x in ax.get_yticks()])\n"
     ]
    },
    {
     "data": {
      "image/png": "[encoded data removed]",
      "text/plain": [
       "<Figure size 640x480 with 1 Axes>"
      ]
     },
     "metadata": {},
     "output_type": "display_data"
    }
   ],
   "source": [
    "print(db[\"review_palate\"].value_counts(normalize=True))\n",
    "\n",
    "ax = db[\"review_palate\"].value_counts(normalize=True).plot.bar(title = \"review_palate\")\n",
    "ax.set_yticklabels(['{:,.0%}'.format(x) for x in ax.get_yticks()])\n",
    "plt.show()"
   ]
  },
  {
   "cell_type": "code",
   "execution_count": 15,
   "id": "b844193e",
   "metadata": {},
   "outputs": [
    {
     "name": "stdout",
     "output_type": "stream",
     "text": [
      "4.0    0.341250\n",
      "4.5    0.211875\n",
      "3.5    0.204550\n",
      "3.0    0.105168\n",
      "5.0    0.052929\n",
      "2.5    0.041935\n",
      "2.0    0.026463\n",
      "1.5    0.009534\n",
      "1.0    0.006297\n",
      "Name: review_taste, dtype: float64\n"
     ]
    },
    {
     "name": "stderr",
     "output_type": "stream",
     "text": [
      "C:\\Users\\Lenovo\\AppData\\Local\\Temp\\ipykernel_7128\\1009278683.py:4: UserWarning: FixedFormatter should only be used together with FixedLocator\n",
      "  ax.set_yticklabels(['{:,.0%}'.format(x) for x in ax.get_yticks()])\n"
     ]
    },
    {
     "data": {
      "image/png": "[encoded data removed]",
      "text/plain": [
       "<Figure size 640x480 with 1 Axes>"
      ]
     },
     "metadata": {},
     "output_type": "display_data"
    }
   ],
   "source": [
    "print(db[\"review_taste\"].value_counts(normalize=True))\n",
    "\n",
    "ax = db[\"review_taste\"].value_counts(normalize=True).plot.bar(title = \"review_taste\")\n",
    "ax.set_yticklabels(['{:,.0%}'.format(x) for x in ax.get_yticks()])\n",
    "plt.show()"
   ]
  },
  {
   "cell_type": "markdown",
   "id": "cbf432e2",
   "metadata": {},
   "source": [
    "## Findings\n",
    "\n",
    "#### taste: 85% of the rating is between 3 - 4.5\n",
    "#### palate: 85% of the rating is between 3 - 4.5\n",
    "#### aroma: 85% of the rating is between 3 - 4.5\n",
    "#### appearance: 90% of the rating is between 3 - 4.5\n",
    "#### overall: 85% of the rating is between 3 - 4.5"
   ]
  },
  {
   "cell_type": "markdown",
   "id": "22772967",
   "metadata": {},
   "source": [
    "# Hypothesis Testing"
   ]
  },
  {
   "cell_type": "markdown",
   "id": "01016827",
   "metadata": {},
   "source": [
    "### Hypothesis 01: Average abv of the beers in the world is 5%. This sample dataset represents population"
   ]
  },
  {
   "cell_type": "code",
   "execution_count": 16,
   "id": "02d6cdf4",
   "metadata": {},
   "outputs": [
    {
     "data": {
      "text/plain": [
       "{'Min': 0.01,\n",
       " '10%ile': 4.8,\n",
       " 'Q1': 5.3,\n",
       " 'Q2 (Median)': 6.5,\n",
       " 'Q3': 8.4,\n",
       " '90%ile': 10.0,\n",
       " '95%ile': 11.0,\n",
       " '99%ile': 14.0,\n",
       " 'Max': 57.7}"
      ]
     },
     "execution_count": 16,
     "metadata": {},
     "output_type": "execute_result"
    }
   ],
   "source": [
    "summary_stats(db[\"beer_abv\"])"
   ]
  },
  {
   "cell_type": "code",
   "execution_count": 17,
   "id": "861f04d6",
   "metadata": {},
   "outputs": [
    {
     "data": {
      "text/plain": [
       "<seaborn.axisgrid.FacetGrid at 0x28d2f0a6a50>"
      ]
     },
     "execution_count": 17,
     "metadata": {},
     "output_type": "execute_result"
    },
    {
     "data": {
      "image/png": "[encoded data removed]",
      "text/plain": [
       "<Figure size 500x500 with 1 Axes>"
      ]
     },
     "metadata": {},
     "output_type": "display_data"
    }
   ],
   "source": [
    "sns.displot(db[\"beer_abv\"])"
   ]
  },
  {
   "cell_type": "markdown",
   "id": "27173e29",
   "metadata": {},
   "source": [
    "### Doing 2 tail test to check the hypothesis\n",
    "#### Null Hypothesis: Avg of sample is 5%\n",
    "#### Alternate Hypothesis: Avg os sample is not 5%\n",
    "#### Significance level (alpha) = 5%\n",
    "\n",
    "#### The abv seems to be normally distributed as seen from the histogram plot above, applying two tailed z-test\n",
    "#### Also, since the sample size >>>>> 30, we can assume it is normally distributed"
   ]
  },
  {
   "cell_type": "code",
   "execution_count": 18,
   "id": "3443c160",
   "metadata": {},
   "outputs": [
    {
     "name": "stdout",
     "output_type": "stream",
     "text": [
      "The sample mean is not significantly different from the population mean.\n"
     ]
    }
   ],
   "source": [
    "abv_mean = db[\"beer_abv\"].mean()\n",
    "abv_std = db[\"beer_abv\"].std()\n",
    "pop_mean = 5\n",
    "sample_size = len(db)\n",
    "\n",
    "z_score = (abv_mean - pop_mean) / (abv_std / np.sqrt(sample_size))\n",
    "p_value = stats.norm.sf(abs(z_score))*2\n",
    "\n",
    "if p_value < 0.025 and p_value > 0.0975:\n",
    "    print(\"The sample mean is significantly different from the population mean.\")\n",
    "else:\n",
    "    print(\"The sample mean is not significantly different from the population mean.\")"
   ]
  },
  {
   "cell_type": "markdown",
   "id": "ad3a7ef7",
   "metadata": {},
   "source": [
    "#### The sample is not significantly different from the population mean. Thus, it represents the population."
   ]
  },
  {
   "cell_type": "markdown",
   "id": "97516de4",
   "metadata": {},
   "source": [
    "### Hypothesis 02: The overall characteristics and your personal experience of the beer is strongly influenced by aroma and taste"
   ]
  },
  {
   "cell_type": "code",
   "execution_count": 19,
   "id": "c3f66a5d",
   "metadata": {},
   "outputs": [
    {
     "name": "stdout",
     "output_type": "stream",
     "text": [
      "                  Coefficients Confidence Interval           P-Value\n",
      "                             0                   0         1       1\n",
      "review_aroma          0.069482            0.068066  0.070899     0.0\n",
      "review_appearance     0.096297            0.095060  0.097534     0.0\n",
      "review_taste          0.556976            0.555437  0.558515     0.0\n",
      "review_palate         0.284283            0.282800  0.285765     0.0\n",
      "\n",
      " r2: 0.6502688215090825\n",
      "\n",
      " mse: 0.18159218179288664\n"
     ]
    }
   ],
   "source": [
    "import statsmodels.api as sm\n",
    "\n",
    "x = db[['review_aroma', 'review_appearance', 'review_taste', 'review_palate']]\n",
    "y = db[['review_overall']]\n",
    "\n",
    "model_results  = sm.OLS(y, x).fit()\n",
    "y_pred = model_results.predict(x)\n",
    "\n",
    "# find p-values of the coefficients\n",
    "p_values = model_results.pvalues\n",
    "\n",
    "# find confidence intervals of the coefficients\n",
    "conf_intervals = model_results.conf_int()\n",
    "\n",
    "# create a summary table of the regression results including p-values and\n",
    "# confidence intervals\n",
    "summary_table = pd.concat([model_results.params,\n",
    "                           conf_intervals,\n",
    "                           p_values],\n",
    "                          axis=1, keys=['Coefficients', 'Confidence Interval', 'P-Value'])\n",
    "print(summary_table)\n",
    "print(\"\\n r2:\", r2_score(y, y_pred))\n",
    "print(\"\\n mse:\", mean_squared_error(y, y_pred))"
   ]
  },
  {
   "cell_type": "markdown",
   "id": "1bf34ee8",
   "metadata": {},
   "source": [
    "#### All variables have p-values=0, indicating that they are statistically significant predictors of overall\n",
    "#### The value of r2> 0.6, we can consider this model to be a good fit for the data.\n",
    "#### Looking at the coefficient of the parameters of the model, palate & taste has strong relationship with overall quality\n",
    "#### Thus, hypothesis 02 is partially correct - Taste influemces the overall but aroma doesn't"
   ]
  },
  {
   "cell_type": "markdown",
   "id": "fc187acc",
   "metadata": {},
   "source": [
    "### Hypothesis 03: Stronger beers (above 10% abv) are rated 5 for overall charecteristics"
   ]
  },
  {
   "cell_type": "code",
   "execution_count": 20,
   "id": "11644adb",
   "metadata": {},
   "outputs": [
    {
     "name": "stdout",
     "output_type": "stream",
     "text": [
      "ABV: \n",
      " {'Min': 10.01, '10%ile': 10.3, 'Q1': 10.5, 'Q2 (Median)': 11.03, 'Q3': 12.0, '90%ile': 14.5, '95%ile': 17.5, '99%ile': 18.2, 'Max': 57.7}\n",
      "\n",
      " Overall: \n",
      " {'Min': 1.0, '10%ile': 3.0, 'Q1': 3.5, 'Q2 (Median)': 4.0, 'Q3': 4.5, '90%ile': 4.5, '95%ile': 5.0, '99%ile': 5.0, 'Max': 5.0}\n"
     ]
    }
   ],
   "source": [
    "strong_beer = db[db['beer_abv'] > 10]\n",
    "print(\"ABV: \\n\", summary_stats(strong_beer['beer_abv']))\n",
    "print(\"\\n Overall: \\n\", summary_stats(strong_beer['review_overall']))"
   ]
  },
  {
   "cell_type": "markdown",
   "id": "cded7206",
   "metadata": {},
   "source": [
    "#### The hypothesis is not true as 90% of the data has rating below 5 for overall quality"
   ]
  },
  {
   "cell_type": "markdown",
   "id": "a311caf6",
   "metadata": {},
   "source": [
    "### Hypothesis 04: More the review time, better is the rating i.e beers rated 4, 5 for overall charecteristics has taken more time for review"
   ]
  },
  {
   "cell_type": "code",
   "execution_count": 21,
   "id": "723eb937",
   "metadata": {},
   "outputs": [
    {
     "data": {
      "image/png": "[encoded data removed]",
      "text/plain": [
       "<Figure size 1200x1000 with 1 Axes>"
      ]
     },
     "metadata": {},
     "output_type": "display_data"
    }
   ],
   "source": [
    "plt.figure(figsize=(12,10))\n",
    "sns.scatterplot(x=\"review_overall\", y=\"review_time\", data=db)\n",
    "plt.title(\"Overall vs Time\", fontsize=12)\n",
    "plt.show()"
   ]
  },
  {
   "cell_type": "markdown",
   "id": "205d4ba3",
   "metadata": {},
   "source": [
    "#### There is no relationship between the time taken for review and the overall quality. Hypothesis 04 is not true."
   ]
  },
  {
   "cell_type": "markdown",
   "id": "6305ce51",
   "metadata": {},
   "source": [
    "### Hypothesis 05: Atleast 80% of the beers have abv between 4% - 7%"
   ]
  },
  {
   "cell_type": "code",
   "execution_count": 22,
   "id": "c8bf0263",
   "metadata": {},
   "outputs": [
    {
     "data": {
      "text/plain": [
       "{'Min': 0.01,\n",
       " '10%ile': 4.8,\n",
       " 'Q1': 5.3,\n",
       " 'Q2 (Median)': 6.5,\n",
       " 'Q3': 8.4,\n",
       " '90%ile': 10.0,\n",
       " '95%ile': 11.0,\n",
       " '99%ile': 14.0,\n",
       " 'Max': 57.7}"
      ]
     },
     "execution_count": 22,
     "metadata": {},
     "output_type": "execute_result"
    }
   ],
   "source": [
    "summary_stats(db[\"beer_abv\"])"
   ]
  },
  {
   "cell_type": "markdown",
   "id": "384f632f",
   "metadata": {},
   "source": [
    "#### Less than 75% of the beer has abv < 7%, thus, hypothesis 5 rejected"
   ]
  },
  {
   "cell_type": "markdown",
   "id": "dfc68314",
   "metadata": {},
   "source": [
    "# Feature Engineering - Adding a new rating system\n",
    "\n",
    "#### The new rating system is dervied from all 5 ratings - aroma, appearance, taste, palate and overall. It is taken as weighted sum of each variable. \n",
    "\n",
    "| Previous rating | Weights |\n",
    "| --------------- | ------- |\n",
    "| Appearance      | 10%     |\n",
    "| Palate          | 10%     |\n",
    "| Aroma           | 20%     |\n",
    "| Taste           | 20%     |\n",
    "| Overall         | 40%     |\n",
    "\n",
    "#### Source: https://www.ratebeer.com/our-scores"
   ]
  },
  {
   "cell_type": "code",
   "execution_count": 23,
   "id": "9d4cabfa",
   "metadata": {},
   "outputs": [
    {
     "name": "stdout",
     "output_type": "stream",
     "text": [
      "Summary of rating: \n",
      " {'Min': 1.0, '10%ile': 3.0, 'Q1': 3.5, 'Q2 (Median)': 3.9, 'Q3': 4.2, '90%ile': 4.45, '95%ile': 4.6, '99%ile': 4.85, 'Max': 5.0}\n"
     ]
    },
    {
     "data": {
      "image/png": "[encoded data removed]",
      "text/plain": [
       "<Figure size 500x500 with 1 Axes>"
      ]
     },
     "metadata": {},
     "output_type": "display_data"
    }
   ],
   "source": [
    "db['rating'] = round((0.1 * db['review_appearance']) + (0.2 * db['review_aroma']) + (0.2 * db['review_taste']) + (0.1 * db['review_palate']) + (0.4 * db['review_overall']),2)\n",
    "sns.displot(db['rating'])\n",
    "print(\"Summary of rating: \\n\", summary_stats(db['rating']))"
   ]
  },
  {
   "cell_type": "code",
   "execution_count": 24,
   "id": "00d76021",
   "metadata": {},
   "outputs": [
    {
     "name": "stdout",
     "output_type": "stream",
     "text": [
      "\n",
      " No. of 5* Beer: 5967\n",
      "\n",
      " % of 5* Beer: 0.38 %\n",
      "\n",
      " Mean of abv for 5* Beer: 8.56\n",
      "\n",
      " Summary of ABV: \n",
      " {'Min': 0.5, '10%ile': 5.2, 'Q1': 6.5, 'Q2 (Median)': 8.1, 'Q3': 10.3, '90%ile': 11.5, '95%ile': 13.0, '99%ile': 18.0, 'Max': 41.0}\n"
     ]
    },
    {
     "data": {
      "text/html": [
       "<div>\n",
       "<style scoped>\n",
       "    .dataframe tbody tr th:only-of-type {\n",
       "        vertical-align: middle;\n",
       "    }\n",
       "\n",
       "    .dataframe tbody tr th {\n",
       "        vertical-align: top;\n",
       "    }\n",
       "\n",
       "    .dataframe thead th {\n",
       "        text-align: right;\n",
       "    }\n",
       "</style>\n",
       "<table border=\"1\" class=\"dataframe\">\n",
       "  <thead>\n",
       "    <tr style=\"text-align: right;\">\n",
       "      <th></th>\n",
       "      <th>brewery_id</th>\n",
       "      <th>brewery_name</th>\n",
       "      <th>review_time</th>\n",
       "      <th>review_overall</th>\n",
       "      <th>review_aroma</th>\n",
       "      <th>review_appearance</th>\n",
       "      <th>review_profilename</th>\n",
       "      <th>beer_style</th>\n",
       "      <th>review_palate</th>\n",
       "      <th>review_taste</th>\n",
       "      <th>beer_name</th>\n",
       "      <th>beer_abv</th>\n",
       "      <th>beer_beerid</th>\n",
       "      <th>rating</th>\n",
       "    </tr>\n",
       "  </thead>\n",
       "  <tbody>\n",
       "    <tr>\n",
       "      <th>443</th>\n",
       "      <td>1075</td>\n",
       "      <td>Caldera Brewing Company</td>\n",
       "      <td>1325980456</td>\n",
       "      <td>5.0</td>\n",
       "      <td>5.0</td>\n",
       "      <td>5.0</td>\n",
       "      <td>vicsju1991</td>\n",
       "      <td>American IPA</td>\n",
       "      <td>5.0</td>\n",
       "      <td>5.0</td>\n",
       "      <td>Caldera IPA</td>\n",
       "      <td>6.1</td>\n",
       "      <td>10784</td>\n",
       "      <td>5.0</td>\n",
       "    </tr>\n",
       "    <tr>\n",
       "      <th>1729</th>\n",
       "      <td>1454</td>\n",
       "      <td>Broad Ripple Brew Pub</td>\n",
       "      <td>1182392570</td>\n",
       "      <td>5.0</td>\n",
       "      <td>5.0</td>\n",
       "      <td>5.0</td>\n",
       "      <td>shbobdb</td>\n",
       "      <td>English Bitter</td>\n",
       "      <td>5.0</td>\n",
       "      <td>5.0</td>\n",
       "      <td>T.J.'s Best Bitter</td>\n",
       "      <td>5.3</td>\n",
       "      <td>16491</td>\n",
       "      <td>5.0</td>\n",
       "    </tr>\n",
       "    <tr>\n",
       "      <th>1768</th>\n",
       "      <td>1454</td>\n",
       "      <td>Broad Ripple Brew Pub</td>\n",
       "      <td>1288538410</td>\n",
       "      <td>5.0</td>\n",
       "      <td>5.0</td>\n",
       "      <td>5.0</td>\n",
       "      <td>908carson</td>\n",
       "      <td>American Pale Ale (APA)</td>\n",
       "      <td>5.0</td>\n",
       "      <td>5.0</td>\n",
       "      <td>Wobbly Bob APA</td>\n",
       "      <td>5.5</td>\n",
       "      <td>15660</td>\n",
       "      <td>5.0</td>\n",
       "    </tr>\n",
       "    <tr>\n",
       "      <th>2130</th>\n",
       "      <td>577</td>\n",
       "      <td>Isle Of Skye Brewery</td>\n",
       "      <td>1000848115</td>\n",
       "      <td>5.0</td>\n",
       "      <td>5.0</td>\n",
       "      <td>5.0</td>\n",
       "      <td>dennis</td>\n",
       "      <td>Scottish Ale</td>\n",
       "      <td>5.0</td>\n",
       "      <td>5.0</td>\n",
       "      <td>Black Cuillin</td>\n",
       "      <td>4.5</td>\n",
       "      <td>1557</td>\n",
       "      <td>5.0</td>\n",
       "    </tr>\n",
       "    <tr>\n",
       "      <th>2399</th>\n",
       "      <td>16859</td>\n",
       "      <td>Great South Bay Brewery</td>\n",
       "      <td>1313808291</td>\n",
       "      <td>5.0</td>\n",
       "      <td>5.0</td>\n",
       "      <td>5.0</td>\n",
       "      <td>cstrong821</td>\n",
       "      <td>American Blonde Ale</td>\n",
       "      <td>5.0</td>\n",
       "      <td>5.0</td>\n",
       "      <td>Blonde Ambition</td>\n",
       "      <td>4.8</td>\n",
       "      <td>61800</td>\n",
       "      <td>5.0</td>\n",
       "    </tr>\n",
       "    <tr>\n",
       "      <th>...</th>\n",
       "      <td>...</td>\n",
       "      <td>...</td>\n",
       "      <td>...</td>\n",
       "      <td>...</td>\n",
       "      <td>...</td>\n",
       "      <td>...</td>\n",
       "      <td>...</td>\n",
       "      <td>...</td>\n",
       "      <td>...</td>\n",
       "      <td>...</td>\n",
       "      <td>...</td>\n",
       "      <td>...</td>\n",
       "      <td>...</td>\n",
       "      <td>...</td>\n",
       "    </tr>\n",
       "    <tr>\n",
       "      <th>1583864</th>\n",
       "      <td>41</td>\n",
       "      <td>Brouwerij Corsendonk</td>\n",
       "      <td>1157832018</td>\n",
       "      <td>5.0</td>\n",
       "      <td>5.0</td>\n",
       "      <td>5.0</td>\n",
       "      <td>startle69</td>\n",
       "      <td>Dubbel</td>\n",
       "      <td>5.0</td>\n",
       "      <td>5.0</td>\n",
       "      <td>Corsendonk Pater / Abbey Brown Ale</td>\n",
       "      <td>7.5</td>\n",
       "      <td>138</td>\n",
       "      <td>5.0</td>\n",
       "    </tr>\n",
       "    <tr>\n",
       "      <th>1584917</th>\n",
       "      <td>3835</td>\n",
       "      <td>Drake's Brewing Co.</td>\n",
       "      <td>1223173299</td>\n",
       "      <td>5.0</td>\n",
       "      <td>5.0</td>\n",
       "      <td>5.0</td>\n",
       "      <td>Georgiabeer</td>\n",
       "      <td>American Double / Imperial Stout</td>\n",
       "      <td>5.0</td>\n",
       "      <td>5.0</td>\n",
       "      <td>Drake's Pinot Noir Barrel Aged Imperial Stout</td>\n",
       "      <td>8.5</td>\n",
       "      <td>45184</td>\n",
       "      <td>5.0</td>\n",
       "    </tr>\n",
       "    <tr>\n",
       "      <th>1585230</th>\n",
       "      <td>3835</td>\n",
       "      <td>Drake's Brewing Co.</td>\n",
       "      <td>1146496214</td>\n",
       "      <td>5.0</td>\n",
       "      <td>5.0</td>\n",
       "      <td>5.0</td>\n",
       "      <td>Vancer</td>\n",
       "      <td>American Barleywine</td>\n",
       "      <td>5.0</td>\n",
       "      <td>5.0</td>\n",
       "      <td>Drake's Barrel Aged Barley Wine</td>\n",
       "      <td>14.7</td>\n",
       "      <td>27288</td>\n",
       "      <td>5.0</td>\n",
       "    </tr>\n",
       "    <tr>\n",
       "      <th>1585355</th>\n",
       "      <td>3835</td>\n",
       "      <td>Drake's Brewing Co.</td>\n",
       "      <td>1235971867</td>\n",
       "      <td>5.0</td>\n",
       "      <td>5.0</td>\n",
       "      <td>5.0</td>\n",
       "      <td>ChokeHold</td>\n",
       "      <td>Scotch Ale / Wee Heavy</td>\n",
       "      <td>5.0</td>\n",
       "      <td>5.0</td>\n",
       "      <td>Drake's Brandy Barrel Aged Jolly Rodger</td>\n",
       "      <td>14.7</td>\n",
       "      <td>39017</td>\n",
       "      <td>5.0</td>\n",
       "    </tr>\n",
       "    <tr>\n",
       "      <th>1586605</th>\n",
       "      <td>14359</td>\n",
       "      <td>The Defiant Brewing Company</td>\n",
       "      <td>1163291143</td>\n",
       "      <td>5.0</td>\n",
       "      <td>5.0</td>\n",
       "      <td>5.0</td>\n",
       "      <td>NyackNicky</td>\n",
       "      <td>Pumpkin Ale</td>\n",
       "      <td>5.0</td>\n",
       "      <td>5.0</td>\n",
       "      <td>The Horseman's Ale</td>\n",
       "      <td>5.2</td>\n",
       "      <td>33061</td>\n",
       "      <td>5.0</td>\n",
       "    </tr>\n",
       "  </tbody>\n",
       "</table>\n",
       "<p>5967 rows × 14 columns</p>\n",
       "</div>"
      ],
      "text/plain": [
       "         brewery_id                 brewery_name  review_time  review_overall  \\\n",
       "443            1075      Caldera Brewing Company   1325980456             5.0   \n",
       "1729           1454        Broad Ripple Brew Pub   1182392570             5.0   \n",
       "1768           1454        Broad Ripple Brew Pub   1288538410             5.0   \n",
       "2130            577         Isle Of Skye Brewery   1000848115             5.0   \n",
       "2399          16859      Great South Bay Brewery   1313808291             5.0   \n",
       "...             ...                          ...          ...             ...   \n",
       "1583864          41         Brouwerij Corsendonk   1157832018             5.0   \n",
       "1584917        3835          Drake's Brewing Co.   1223173299             5.0   \n",
       "1585230        3835          Drake's Brewing Co.   1146496214             5.0   \n",
       "1585355        3835          Drake's Brewing Co.   1235971867             5.0   \n",
       "1586605       14359  The Defiant Brewing Company   1163291143             5.0   \n",
       "\n",
       "         review_aroma  review_appearance review_profilename  \\\n",
       "443               5.0                5.0         vicsju1991   \n",
       "1729              5.0                5.0            shbobdb   \n",
       "1768              5.0                5.0          908carson   \n",
       "2130              5.0                5.0             dennis   \n",
       "2399              5.0                5.0         cstrong821   \n",
       "...               ...                ...                ...   \n",
       "1583864           5.0                5.0          startle69   \n",
       "1584917           5.0                5.0        Georgiabeer   \n",
       "1585230           5.0                5.0             Vancer   \n",
       "1585355           5.0                5.0          ChokeHold   \n",
       "1586605           5.0                5.0         NyackNicky   \n",
       "\n",
       "                               beer_style  review_palate  review_taste  \\\n",
       "443                          American IPA            5.0           5.0   \n",
       "1729                       English Bitter            5.0           5.0   \n",
       "1768              American Pale Ale (APA)            5.0           5.0   \n",
       "2130                         Scottish Ale            5.0           5.0   \n",
       "2399                  American Blonde Ale            5.0           5.0   \n",
       "...                                   ...            ...           ...   \n",
       "1583864                            Dubbel            5.0           5.0   \n",
       "1584917  American Double / Imperial Stout            5.0           5.0   \n",
       "1585230               American Barleywine            5.0           5.0   \n",
       "1585355            Scotch Ale / Wee Heavy            5.0           5.0   \n",
       "1586605                       Pumpkin Ale            5.0           5.0   \n",
       "\n",
       "                                             beer_name  beer_abv  beer_beerid  \\\n",
       "443                                        Caldera IPA       6.1        10784   \n",
       "1729                                T.J.'s Best Bitter       5.3        16491   \n",
       "1768                                    Wobbly Bob APA       5.5        15660   \n",
       "2130                                     Black Cuillin       4.5         1557   \n",
       "2399                                   Blonde Ambition       4.8        61800   \n",
       "...                                                ...       ...          ...   \n",
       "1583864             Corsendonk Pater / Abbey Brown Ale       7.5          138   \n",
       "1584917  Drake's Pinot Noir Barrel Aged Imperial Stout       8.5        45184   \n",
       "1585230                Drake's Barrel Aged Barley Wine      14.7        27288   \n",
       "1585355        Drake's Brandy Barrel Aged Jolly Rodger      14.7        39017   \n",
       "1586605                             The Horseman's Ale       5.2        33061   \n",
       "\n",
       "         rating  \n",
       "443         5.0  \n",
       "1729        5.0  \n",
       "1768        5.0  \n",
       "2130        5.0  \n",
       "2399        5.0  \n",
       "...         ...  \n",
       "1583864     5.0  \n",
       "1584917     5.0  \n",
       "1585230     5.0  \n",
       "1585355     5.0  \n",
       "1586605     5.0  \n",
       "\n",
       "[5967 rows x 14 columns]"
      ]
     },
     "execution_count": 24,
     "metadata": {},
     "output_type": "execute_result"
    }
   ],
   "source": [
    "finest = db[db['rating'] == 5]\n",
    "print('\\n No. of 5* Beer:',len(finest))\n",
    "print('\\n % of 5* Beer:',round(len(finest)/len(db)*100,2),\"%\")\n",
    "print('\\n Mean of abv for 5* Beer:',round(finest[\"beer_abv\"].mean(),2))\n",
    "print(\"\\n Summary of ABV: \\n\", summary_stats(finest[\"beer_abv\"]))\n",
    "finest"
   ]
  },
  {
   "cell_type": "code",
   "execution_count": 25,
   "id": "bf9bf6c1",
   "metadata": {},
   "outputs": [
    {
     "data": {
      "text/plain": [
       "<seaborn.axisgrid.FacetGrid at 0x28d34af1110>"
      ]
     },
     "execution_count": 25,
     "metadata": {},
     "output_type": "execute_result"
    },
    {
     "data": {
      "image/png": "[encoded data removed]",
      "text/plain": [
       "<Figure size 500x500 with 1 Axes>"
      ]
     },
     "metadata": {},
     "output_type": "display_data"
    }
   ],
   "source": [
    "sns.displot(finest[\"beer_abv\"])"
   ]
  },
  {
   "cell_type": "markdown",
   "id": "622d7b84",
   "metadata": {},
   "source": [
    "## 3 Wierd Beer"
   ]
  },
  {
   "cell_type": "code",
   "execution_count": 26,
   "id": "9b569cca",
   "metadata": {},
   "outputs": [
    {
     "name": "stdout",
     "output_type": "stream",
     "text": [
      "       brewery_name                      beer_style           beer_name  \\\n",
      "746345      BrewDog  American Double / Imperial IPA  Sink The Bismarck!   \n",
      "746410      BrewDog  American Double / Imperial IPA  Sink The Bismarck!   \n",
      "\n",
      "        beer_abv  \n",
      "746345      41.0  \n",
      "746410      41.0  \n",
      "                    brewery_name        beer_style  \\\n",
      "832952        Erdinger Weissbräu  Low Alcohol Beer   \n",
      "1061086  Cerveceria Vegana, S.A.  Low Alcohol Beer   \n",
      "\n",
      "                              beer_name  beer_abv  \n",
      "832952   Erdinger Weissbier Alkoholfrei       0.5  \n",
      "1061086                     Malta India       0.5  \n",
      "                              brewery_name           beer_style  \\\n",
      "284148  Boston Beer Company (Samuel Adams)  American Strong Ale   \n",
      "284157  Boston Beer Company (Samuel Adams)  American Strong Ale   \n",
      "\n",
      "                      beer_name  beer_abv  \n",
      "284148  Samuel Adams Millennium      21.0  \n",
      "284157  Samuel Adams Millennium      21.0  \n"
     ]
    }
   ],
   "source": [
    "#Beer with maximum alcohol content\n",
    "a = finest[finest['beer_abv'] == 41]\n",
    "print(a[[\"brewery_name\", \"beer_style\", \"beer_name\", \"beer_abv\"]])\n",
    "\n",
    "#Beer with minimum alcohol content\n",
    "b = finest[finest['beer_abv'] == 0.5]\n",
    "print(b[[\"brewery_name\", \"beer_style\", \"beer_name\", \"beer_abv\"]])\n",
    "\n",
    "#Beer with mean of the abv\n",
    "c = finest[finest['beer_abv'] == 21]\n",
    "print(c[[\"brewery_name\", \"beer_style\", \"beer_name\", \"beer_abv\"]])"
   ]
  },
  {
   "cell_type": "markdown",
   "id": "ea2d22b4",
   "metadata": {},
   "source": [
    "## Beer I would recommend"
   ]
  },
  {
   "cell_type": "code",
   "execution_count": 27,
   "id": "3dcf04c9",
   "metadata": {},
   "outputs": [
    {
     "data": {
      "text/plain": [
       "English Pale Mild Ale         1\n",
       "English Stout                 1\n",
       "Keller Bier / Zwickel Bier    1\n",
       "Kristalweizen                 1\n",
       "Name: beer_style, dtype: int64"
      ]
     },
     "execution_count": 27,
     "metadata": {},
     "output_type": "execute_result"
    }
   ],
   "source": [
    "style = finest[\"beer_style\"].value_counts()\n",
    "style[style == 1]"
   ]
  },
  {
   "cell_type": "code",
   "execution_count": 28,
   "id": "0922bd36",
   "metadata": {
    "scrolled": true
   },
   "outputs": [
    {
     "name": "stdout",
     "output_type": "stream",
     "text": [
      "                 brewery_name     beer_style               beer_name  beer_abv\n",
      "1158778  Brauerei Tucher Brau  Kristalweizen  Tucher Kristall Weizen       5.1\n",
      "                 brewery_name             beer_style  \\\n",
      "171032  Arbor Brewing Company  English Pale Mild Ale   \n",
      "\n",
      "                               beer_name  beer_abv  \n",
      "171032  Arbor Brewing Big Ben House Mild       3.5  \n",
      "                         brewery_name     beer_style                beer_name  \\\n",
      "752064  Belhaven Brewery Company Ltd.  English Stout  Belhaven Scottish Stout   \n",
      "\n",
      "        beer_abv  \n",
      "752064       7.0  \n",
      "       brewery_name                  beer_style                    beer_name  \\\n",
      "512039   Mahrs-Bräu  Keller Bier / Zwickel Bier  Mahr's Ungespundet-hefetrüb   \n",
      "\n",
      "        beer_abv  \n",
      "512039       5.2  \n"
     ]
    }
   ],
   "source": [
    "style1 = finest[finest['beer_style'] == 'Kristalweizen']\n",
    "print(style1[[\"brewery_name\", \"beer_style\", \"beer_name\", \"beer_abv\"]])\n",
    "\n",
    "style2 = finest[finest['beer_style'] == 'English Pale Mild Ale']\n",
    "print(style2[[\"brewery_name\", \"beer_style\", \"beer_name\", \"beer_abv\"]])\n",
    "\n",
    "style3 = finest[finest['beer_style'] == 'English Stout']\n",
    "print(style3[[\"brewery_name\", \"beer_style\", \"beer_name\", \"beer_abv\"]])\n",
    "\n",
    "style4 = finest[finest['beer_style'] == 'Keller Bier / Zwickel Bier']\n",
    "print(style4[[\"brewery_name\", \"beer_style\", \"beer_name\", \"beer_abv\"]])"
   ]
  },
  {
   "cell_type": "markdown",
   "id": "37260561",
   "metadata": {},
   "source": [
    "# Brewery with Best Beer & KPI 1"
   ]
  },
  {
   "cell_type": "code",
   "execution_count": 29,
   "id": "badd4481",
   "metadata": {},
   "outputs": [
    {
     "name": "stdout",
     "output_type": "stream",
     "text": [
      "                    brewery_name  fin_counts  db_counts  beer_abv\n",
      "0  Russian River Brewing Company         312      11311      8.00\n",
      "1  Russian River Brewing Company         312      11311     11.00\n",
      "2  Russian River Brewing Company         312      11311      7.00\n",
      "3  Russian River Brewing Company         312      11311     10.43\n",
      "4  Russian River Brewing Company         312      11311     10.43\n"
     ]
    },
    {
     "data": {
      "text/plain": [
       "{'Min': 1,\n",
       " '10%ile': 741.8000000000001,\n",
       " 'Q1': 2617.0,\n",
       " 'Q2 (Median)': 6708.0,\n",
       " 'Q3': 14534.0,\n",
       " '90%ile': 25191.0,\n",
       " '95%ile': 33066.0,\n",
       " '99%ile': 39459.0,\n",
       " 'Max': 39459}"
      ]
     },
     "execution_count": 29,
     "metadata": {},
     "output_type": "execute_result"
    }
   ],
   "source": [
    "c1 = finest[\"brewery_name\"].value_counts()\n",
    "c2 = pd.DataFrame({\"brewery_name\": c1.index, \"fin_counts\": c1.values})\n",
    "\n",
    "c3 = db[\"brewery_name\"].value_counts()\n",
    "c4 = pd.DataFrame({\"brewery_name\": c3.index, \"db_counts\": c3.values})\n",
    "\n",
    "merged = pd.merge(c2, c4, on=\"brewery_name\", how=\"left\")\n",
    "merged = pd.merge(merged[['brewery_name', 'fin_counts',  'db_counts']], finest[['brewery_name', 'beer_abv']], on=\"brewery_name\", how=\"left\")\n",
    "print(merged.head(5))\n",
    "\n",
    "summary_stats(merged[\"db_counts\"])"
   ]
  },
  {
   "cell_type": "code",
   "execution_count": 30,
   "id": "6a42933f",
   "metadata": {},
   "outputs": [
    {
     "data": {
      "text/plain": [
       "{'Min': 0.021119324181626188,\n",
       " '10%ile': 0.23736859952526282,\n",
       " 'Q1': 0.39294526181120354,\n",
       " 'Q2 (Median)': 0.7246376811594203,\n",
       " 'Q3': 1.186623516720604,\n",
       " '90%ile': 2.7583768013438243,\n",
       " '95%ile': 2.7583768013438243,\n",
       " '99%ile': 7.190916736753575,\n",
       " 'Max': 100.0}"
      ]
     },
     "execution_count": 30,
     "metadata": {},
     "output_type": "execute_result"
    }
   ],
   "source": [
    "merged['KPI_1'] = merged[\"fin_counts\"]/merged[\"db_counts\"]*100 \n",
    "merged = merged.sort_values(by=[\"fin_counts\", \"db_counts\", \"KPI_1\"], ascending=False)\n",
    "merged.to_excel('merged.xlsx')\n",
    "\n",
    "#Best Brewery is Brouwerij Westvleteren (Sint-Sixtusabdij van Westvleteren) has the highest % of 5* beers (7%) \n",
    "#with considerable number of total beer reviews (171 out of 2378)\n",
    "\n",
    "summary_stats(merged[\"KPI_1\"])"
   ]
  },
  {
   "cell_type": "markdown",
   "id": "55ad67c7",
   "metadata": {},
   "source": [
    "## KPI 2"
   ]
  },
  {
   "cell_type": "code",
   "execution_count": 31,
   "id": "8b55dbe6",
   "metadata": {},
   "outputs": [
    {
     "name": "stdout",
     "output_type": "stream",
     "text": [
      "                       beer_style  fin_counts  db_counts  beer_abv\n",
      "0  American Double / Imperial IPA         730      85977      10.0\n",
      "1  American Double / Imperial IPA         730      85977       8.2\n",
      "2  American Double / Imperial IPA         730      85977       8.2\n",
      "3  American Double / Imperial IPA         730      85977      10.0\n",
      "4  American Double / Imperial IPA         730      85977      12.0\n"
     ]
    },
    {
     "data": {
      "text/plain": [
       "{'Min': 297,\n",
       " '10%ile': 10950.0,\n",
       " 'Q1': 18086.0,\n",
       " 'Q2 (Median)': 31945.0,\n",
       " 'Q3': 54129.0,\n",
       " '90%ile': 85977.0,\n",
       " '95%ile': 117586.0,\n",
       " '99%ile': 117586.0,\n",
       " 'Max': 117586}"
      ]
     },
     "execution_count": 31,
     "metadata": {},
     "output_type": "execute_result"
    }
   ],
   "source": [
    "s1 = finest[\"beer_style\"].value_counts()\n",
    "s2 = pd.DataFrame({\"beer_style\": s1.index, \"fin_counts\": s1.values})\n",
    "\n",
    "s3 = db[\"beer_style\"].value_counts()\n",
    "s4 = pd.DataFrame({\"beer_style\": s3.index, \"db_counts\": s3.values})\n",
    "\n",
    "KPI2 = pd.merge(s2, s4, on=\"beer_style\", how=\"left\")\n",
    "KPI2 = pd.merge(KPI2[['beer_style', 'fin_counts',  'db_counts']], finest[['beer_style', 'beer_abv']], on=\"beer_style\", how=\"left\")\n",
    "print(KPI2.head(5))\n",
    "\n",
    "summary_stats(KPI2[\"db_counts\"])"
   ]
  },
  {
   "cell_type": "code",
   "execution_count": 32,
   "id": "dac3186a",
   "metadata": {},
   "outputs": [
    {
     "name": "stdout",
     "output_type": "stream",
     "text": [
      "                          beer_style  fin_counts  db_counts  beer_abv  \\\n",
      "0     American Double / Imperial IPA         730      85977      10.0   \n",
      "1     American Double / Imperial IPA         730      85977       8.2   \n",
      "2     American Double / Imperial IPA         730      85977       8.2   \n",
      "3     American Double / Imperial IPA         730      85977      10.0   \n",
      "4     American Double / Imperial IPA         730      85977      12.0   \n",
      "...                              ...         ...        ...       ...   \n",
      "5956                           Kvass           2        297       2.0   \n",
      "5964                   English Stout           1       3018       7.0   \n",
      "5965      Keller Bier / Zwickel Bier           1       2591       5.2   \n",
      "5966                   Kristalweizen           1       2204       5.1   \n",
      "5963           English Pale Mild Ale           1        700       3.5   \n",
      "\n",
      "         KPI_2  \n",
      "0     0.849064  \n",
      "1     0.849064  \n",
      "2     0.849064  \n",
      "3     0.849064  \n",
      "4     0.849064  \n",
      "...        ...  \n",
      "5956  0.673401  \n",
      "5964  0.033135  \n",
      "5965  0.038595  \n",
      "5966  0.045372  \n",
      "5963  0.142857  \n",
      "\n",
      "[5967 rows x 5 columns]\n"
     ]
    },
    {
     "data": {
      "text/plain": [
       "{'Min': 0.03313452617627568,\n",
       " '10%ile': 0.1699806301142428,\n",
       " 'Q1': 0.32551410561124317,\n",
       " 'Q2 (Median)': 0.4852089528877759,\n",
       " 'Q3': 1.0123963125127011,\n",
       " '90%ile': 1.4002563849718963,\n",
       " '95%ile': 1.7361495079066682,\n",
       " '99%ile': 1.7361495079066682,\n",
       " 'Max': 1.7361495079066682}"
      ]
     },
     "execution_count": 32,
     "metadata": {},
     "output_type": "execute_result"
    }
   ],
   "source": [
    "KPI2['KPI_2'] = KPI2[\"fin_counts\"]/KPI2[\"db_counts\"]*100 \n",
    "KPI2 = KPI2.sort_values(by=[\"fin_counts\", \"db_counts\", \"KPI_2\"], ascending=False)\n",
    "print(KPI2)\n",
    "\n",
    "summary_stats(KPI2[\"KPI_2\"])"
   ]
  }
 ],
 "metadata": {
  "kernelspec": {
   "display_name": "Python 3 (ipykernel)",
   "language": "python",
   "name": "python3"
  },
  "language_info": {
   "codemirror_mode": {
    "name": "ipython",
    "version": 3
   },
   "file_extension": ".py",
   "mimetype": "text/x-python",
   "name": "python",
   "nbconvert_exporter": "python",
   "pygments_lexer": "ipython3",
   "version": "3.11.1"
  }
 },
 "nbformat": 4,
 "nbformat_minor": 5
}
